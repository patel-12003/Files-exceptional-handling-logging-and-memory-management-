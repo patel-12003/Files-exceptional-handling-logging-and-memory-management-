{
  "nbformat": 4,
  "nbformat_minor": 0,
  "metadata": {
    "colab": {
      "provenance": []
    },
    "kernelspec": {
      "name": "python3",
      "display_name": "Python 3"
    },
    "language_info": {
      "name": "python"
    }
  },
  "cells": [
    {
      "cell_type": "markdown",
      "source": [
        "##  Files, exceptional handling, logging and memory management\n",
        "\n",
        "#Q1 What is the difference between interpreted and compiled languages?\n",
        "\"\"\"Ans:In compiled languages, the source code is translated into machine code or bytecode by a compiler before it is executed,while In interpreted languages, the source code is executed line by line by an interpreter at runtime.\"\"\"\n",
        "\n",
        "#Q2  What is exception handling in Python?\n",
        "\"\"\"Ans:In python an expection is an event that occurs during programme execution that disrupts the regular flow of code.\"\"\"\n",
        "\n",
        "#Q3 What is the purpose of the finally block in exception handling?\n",
        "\"\"\"Ans:the main purpose of the finally block  in exception handling is to close or finish the open file.\"\"\"\n",
        "\n",
        "#Q4 What is logging in Python?\n",
        "\"\"\"Ans:it records the state and flow of program , code ,or software.\"\"\"\n",
        "\n",
        "#Q5 What is the significance of the __del__ method in Python?\n",
        "\"\"\"Ans:The main purpose of the __del__ method is to allow an object to clean up resources it may have acquired during its lifetime, such as closing files, releasing network connections, or deallocating memory in cases where it's necessary.\"\"\"\n",
        "\n",
        "#Q6 What is the difference between import and from ... import in Python?\n",
        "\"\"\"Ans: The import statement brings the entire module into your code,while The from ... import syntax allows you to import specific elements from a module.\"\"\"\n",
        "\n",
        "#Q7 How can you handle multiple exceptions in Python?\n",
        "\"\"\"Ans:we can handle multiple exceptions in python by using techniques like custom exception handling.\"\"\"\n",
        "\n",
        "#Q8 What is the purpose of the with statement when handling files in Python?\n",
        "\"\"\"Ans:The main purpose of using the with statement is to automatically close the file when you’re done with it, even if an exception occurs.\"\"\"\n",
        "\n",
        "#Q9 What is the difference between multithreading and multiprocessing?\n",
        "\"\"\"Ans: multithreading is happens on one processor where threads share same memory space and resources within a process,while multiprocessing are there where each processor has its own memory space and resource which is isolated from other processor.\"\"\"\n",
        "\n",
        "#Q10 What are the advantages of using logging in a program?\n",
        "\"\"\"Ans:the advantages of using logging in program are better understandind, monitoring, and debugging our code.\"\"\"\n",
        "\n",
        "#Q11  What is memory management in Python?\n",
        "\"\"\"Ans: Memory management in Python refers to the process of efficiently managing the allocation, usage, and deallocation of memory resources during the execution of a Python program.\"\"\"\n",
        "\n",
        "#Q12 What are the basic steps involved in exception handling in Python?\n",
        "\"\"\"Ans:  The basic steps involved in exception handling are structured using the try, except, else, and finally blocks.\"\"\"\n",
        "\n",
        "#Q13 Why is memory management important in Python?\n",
        "\"\"\"Ans: Proper memory management leads to better performance, lower memory consumption, and fewer bugs in Python programs.\"\"\"\n",
        "\n",
        "#Q14 What is the role of try and except in exception handling?\n",
        "\"\"\"Ans: By using try and except, Python provides a structured way to deal with errors and ensures that programs run more robustly and gracefully handle unexpected situations.\"\"\"\n",
        "\n",
        "#Q15  How does Python's garbage collection system work?\n",
        "\"\"\"Ans: Python’s garbage collection system is an automatic memory management mechanism that helps manage the allocation and deallocation of memory for objects in program.\"\"\"\n",
        "\n",
        "#Q16 What is the purpose of the else block in exception handling?\n",
        "\"\"\"Ans: we want to execute some code only if the try statement is successful and code does not enter into exception.\"\"\"\n",
        "\n",
        "#Q17 What are the common logging levels in Python?\n",
        "\"\"\"Ans: there are total 5 common levels of logging in python;\n",
        "DEBUG,INFO,WARNING,ERROR,and CRITICAL.\"\"\"\n",
        "\n",
        "#Q18 What is the difference between os.fork() and multiprocessing in Python?\n",
        "\"\"\"Ans: \"\"\"\n",
        "\n",
        "#Q19 What is the importance of closing a file in Python?\n",
        "\"\"\"Ans: if we make file and want to read then without closing it we cannot read it.so,closing file is important to read or execute it.\"\"\"\n",
        "\n",
        "#Q20 What is the difference between file.read() and file.readline() in Python?\n",
        "\"\"\"Ans:the main difference between file.read() & file.readline() is  that the file.read() is used when we want read everything from starting and the\n",
        "file.readline() is used for execute the line.\"\"\"\n",
        "\n",
        "#Q21 What is the logging module in Python used for?\n",
        "\"\"\"Ans:it records the state and flow of program , code ,or software.\"\"\"\n",
        "\n",
        "\n",
        "#Q22 What is the os module in Python used for in file handling?\n",
        "\"\"\"Ans: the  os module in python is used for providing functionality to interact with operating system.\"\"\"\n",
        "\n",
        "#Q23 What are the challenges associated with memory management in Python?\n",
        "\"\"\"Ans:   \"\"\"\n",
        "\n",
        "#Q24  How do you raise an exception manually in Python?\n",
        "\"\"\"Ans: In Python, you can raise an exception manually using the raise statement.\"\"\"\n",
        "\n",
        "#Q25 Why is it important to use multithreading in certain applications?\n",
        "\"\"\"Ans: Multithreading is an important technique for improving the performance and responsiveness of certain types of applications.\"\"\""
      ],
      "metadata": {
        "id": "sBDAJ0UPKbql"
      }
    },
    {
      "cell_type": "code",
      "execution_count": 1,
      "metadata": {
        "id": "ax5Msd3zKXSR"
      },
      "outputs": [],
      "source": [
        "# How can you open a file for writing in Python and write a string to it?\n",
        "\n",
        "file=open(\"file.txt\",\"w\")\n",
        "file.write(\"hello world!\")\n",
        "file.close()\n"
      ]
    },
    {
      "cell_type": "code",
      "source": [
        "# Write a Python program to read the contents of a file and print each line.\n",
        "\n",
        "# Open the file in read mode\n",
        "file_path = \"example.txt\"  # Replace with the path to your file\n",
        "try:\n",
        "    with open(file_path, 'r') as file:\n",
        "        # Read and print each line\n",
        "        for line in file:\n",
        "            print(line.strip())  # Use strip() to remove any leading/trailing whitespace\n",
        "except FileNotFoundError:\n",
        "    print(f\"Error: The file '{file_path}' was not found.\")\n",
        "except IOError:\n",
        "    print(\"Error: There was a problem reading the file.\")\n"
      ],
      "metadata": {
        "colab": {
          "base_uri": "https://localhost:8080/"
        },
        "id": "t_ykLb54WUCJ",
        "outputId": "99536547-8d10-43ff-f334-776fddf46ca8"
      },
      "execution_count": 2,
      "outputs": [
        {
          "output_type": "stream",
          "name": "stdout",
          "text": [
            "Error: The file 'example.txt' was not found.\n"
          ]
        }
      ]
    },
    {
      "cell_type": "code",
      "source": [
        "#  How would you handle a case where the file doesn't exist while trying to open it for reading?\n",
        "\n",
        "file_path = \"example.txt\"\n",
        "\n",
        "try:\n",
        "\n",
        "    with open(file_path, 'r') as file:\n",
        "\n",
        "        for line in file:\n",
        "            print(line.strip())\n",
        "except FileNotFoundError:\n",
        "\n",
        "    print(f\"Error: The file '{file_path}' does not exist.\")\n",
        "except IOError:\n",
        "\n",
        "    print(\"Error: There was a problem opening the file.\")\n"
      ],
      "metadata": {
        "colab": {
          "base_uri": "https://localhost:8080/"
        },
        "id": "6y68b7BiWxi8",
        "outputId": "b0ce7340-baa4-405c-f2bf-90b67a36d3d0"
      },
      "execution_count": 3,
      "outputs": [
        {
          "output_type": "stream",
          "name": "stdout",
          "text": [
            "Error: The file 'example.txt' does not exist.\n"
          ]
        }
      ]
    },
    {
      "cell_type": "code",
      "source": [
        "#  Write a Python script that reads from one file and writes its content to another file.\n",
        "input_file_path = \"input.txt\"\n",
        "output_file_path = \"output.txt\"\n",
        "\n",
        "try:\n",
        "\n",
        "    with open(input_file_path, 'r') as infile, open(output_file_path, 'w') as outfile:\n",
        "\n",
        "        for line in infile:\n",
        "            outfile.write(line)\n",
        "    print(f\"Content has been successfully copied from '{input_file_path}' to '{output_file_path}'.\")\n",
        "\n",
        "except FileNotFoundError:\n",
        "    print(f\"Error: The file '{input_file_path}' was not found.\")\n",
        "except IOError:\n",
        "    print(\"Error: There was an issue with reading or writing the files.\")\n"
      ],
      "metadata": {
        "colab": {
          "base_uri": "https://localhost:8080/"
        },
        "id": "iNqzw7uTXFmc",
        "outputId": "ed7f37e8-c683-44ee-88a3-1559057e5e35"
      },
      "execution_count": 4,
      "outputs": [
        {
          "output_type": "stream",
          "name": "stdout",
          "text": [
            "Error: The file 'input.txt' was not found.\n"
          ]
        }
      ]
    },
    {
      "cell_type": "code",
      "source": [
        "#  How would you catch and handle division by zero error in Python?\n",
        "\n",
        "def divide(a, b):\n",
        "    try:\n",
        "        result = a / b\n",
        "    except ZeroDivisionError:\n",
        "        print(\"Error: Division by zero is not allowed.\")\n",
        "        return None\n",
        "    else:\n",
        "        return result\n",
        "\n",
        "\n",
        "print(divide(10, 2))\n",
        "print(divide(10, 0))\n"
      ],
      "metadata": {
        "colab": {
          "base_uri": "https://localhost:8080/"
        },
        "id": "png7BtDsX0LN",
        "outputId": "07bb78b1-7512-40d3-fb2e-bdba89fb338c"
      },
      "execution_count": 5,
      "outputs": [
        {
          "output_type": "stream",
          "name": "stdout",
          "text": [
            "5.0\n",
            "Error: Division by zero is not allowed.\n",
            "None\n"
          ]
        }
      ]
    },
    {
      "cell_type": "code",
      "source": [
        "# Write a Python program that logs an error message to a log file when a division by zero exception occurs.\n",
        "\n",
        "import logging\n",
        "\n",
        "\n",
        "logging.basicConfig(\n",
        "    filename='error_log.txt',\n",
        "    level=logging.ERROR,\n",
        "    format='%(asctime)s - %(levelname)s - %(message)s'\n",
        ")\n",
        "\n",
        "def divide(a, b):\n",
        "    try:\n",
        "        result = a / b\n",
        "        return result\n",
        "    except ZeroDivisionError as e:\n",
        "\n",
        "        logging.error(f\"Division by zero error: {e} (Attempted to divide {a} by {b})\")\n",
        "        print(\"Error: Division by zero is not allowed.\")\n",
        "        return None\n",
        "\n",
        "\n",
        "print(divide(10, 2))\n",
        "print(divide(10, 0))\n"
      ],
      "metadata": {
        "colab": {
          "base_uri": "https://localhost:8080/"
        },
        "id": "POyA47zkYN_J",
        "outputId": "3726fa68-d741-471b-c250-2c320e26c7cf"
      },
      "execution_count": 6,
      "outputs": [
        {
          "output_type": "stream",
          "name": "stderr",
          "text": [
            "ERROR:root:Division by zero error: division by zero (Attempted to divide 10 by 0)\n"
          ]
        },
        {
          "output_type": "stream",
          "name": "stdout",
          "text": [
            "5.0\n",
            "Error: Division by zero is not allowed.\n",
            "None\n"
          ]
        }
      ]
    },
    {
      "cell_type": "code",
      "source": [
        "#  How do you log information at different levels (INFO, ERROR, WARNING) in Python using the logging module?\n",
        "\n",
        "import logging\n",
        "\n",
        "\n",
        "logging.basicConfig(\n",
        "    filename='app_log.txt',\n",
        "    level=logging.DEBUG,\n",
        "    format='%(asctime)s - %(levelname)s - %(message)s'\n",
        ")\n",
        "\n",
        "\n",
        "logging.debug(\"This is a debug message.\")\n",
        "logging.info(\"This is an info message.\")\n",
        "logging.warning(\"This is a warning message.\")\n",
        "logging.error(\"This is an error message.\")\n",
        "logging.critical(\"This is a critical message.\")\n"
      ],
      "metadata": {
        "colab": {
          "base_uri": "https://localhost:8080/"
        },
        "id": "z3cRmHgsY5OL",
        "outputId": "6694a36e-8eb0-4c9f-c311-9e9e3f005056"
      },
      "execution_count": 7,
      "outputs": [
        {
          "output_type": "stream",
          "name": "stderr",
          "text": [
            "WARNING:root:This is a warning message.\n",
            "ERROR:root:This is an error message.\n",
            "CRITICAL:root:This is a critical message.\n"
          ]
        }
      ]
    },
    {
      "cell_type": "code",
      "source": [
        "# Write a program to handle a file opening error using exception handling\n",
        "\n",
        "def open_file(file_path):\n",
        "    try:\n",
        "\n",
        "        with open(file_path, 'r') as file:\n",
        "            content = file.read()\n",
        "            print(\"File content:\")\n",
        "            print(content)\n",
        "    except FileNotFoundError:\n",
        "\n",
        "        print(f\"Error: The file '{file_path}' was not found.\")\n",
        "    except IOError as e:\n",
        "\n",
        "        print(f\"Error: An I/O error occurred. Details: {e}\")\n",
        "    except Exception as e:\n",
        "\n",
        "        print(f\"Error: An unexpected error occurred. Details: {e}\")\n",
        "\n",
        "\n",
        "file_path = \"example.txt\"\n",
        "open_file(file_path)\n",
        "\n"
      ],
      "metadata": {
        "colab": {
          "base_uri": "https://localhost:8080/"
        },
        "id": "ZTICI74-ZU4U",
        "outputId": "af2a2799-5541-4c77-de66-46c0cab8d8f8"
      },
      "execution_count": 8,
      "outputs": [
        {
          "output_type": "stream",
          "name": "stdout",
          "text": [
            "Error: The file 'example.txt' was not found.\n"
          ]
        }
      ]
    },
    {
      "cell_type": "code",
      "source": [
        "#  How can you read a file line by line and store its content in a list in Python?\n",
        "\n",
        "def read_file_to_list(file_path):\n",
        "    lines = []\n",
        "    try:\n",
        "        with open(file_path, 'r') as file:\n",
        "            for line in file:\n",
        "                lines.append(line.strip())\n",
        "        return lines\n",
        "    except FileNotFoundError:\n",
        "        print(f\"Error: The file '{file_path}' was not found.\")\n",
        "        return []\n",
        "    except IOError as e:\n",
        "        print(f\"Error: An I/O error occurred. Details: {e}\")\n",
        "        return []\n",
        "\n",
        "\n",
        "file_path = \"example.txt\"\n",
        "file_lines = read_file_to_list(file_path)\n",
        "\n",
        "\n",
        "if file_lines:\n",
        "    print(\"File content stored in list:\")\n",
        "    for line in file_lines:\n",
        "        print(line)\n"
      ],
      "metadata": {
        "colab": {
          "base_uri": "https://localhost:8080/"
        },
        "id": "wIE3RuxkZxKU",
        "outputId": "a7d32d15-f392-48e4-b929-4c8bbb638c3d"
      },
      "execution_count": 9,
      "outputs": [
        {
          "output_type": "stream",
          "name": "stdout",
          "text": [
            "Error: The file 'example.txt' was not found.\n"
          ]
        }
      ]
    },
    {
      "cell_type": "code",
      "source": [
        "# How can you append data to an existing file in Python?\n",
        "\n",
        "file=open(\"file.txt\",\"a\")\n"
      ],
      "metadata": {
        "id": "l5bgyqUVaUEz"
      },
      "execution_count": 10,
      "outputs": []
    },
    {
      "cell_type": "code",
      "source": [
        "# Write a Python program that uses a try-except block to handle an error when attempting to access a dictionary key that doesn't exist.\n",
        "\n",
        "def access_dict_key(my_dict, key):\n",
        "    try:\n",
        "\n",
        "        value = my_dict[key]\n",
        "        print(f\"The value for '{key}' is: {value}\")\n",
        "    except KeyError:\n",
        "\n",
        "        print(f\"Error: The key '{key}' was not found in the dictionary.\")\n",
        "\n",
        "\n",
        "my_dict = {\n",
        "    \"name\": \"Alice\",\n",
        "    \"age\": 30,\n",
        "    \"city\": \"New York\"\n",
        "}\n",
        "\n",
        "\n",
        "access_dict_key(my_dict, \"name\")\n",
        "access_dict_key(my_dict, \"country\")\n",
        "\n"
      ],
      "metadata": {
        "colab": {
          "base_uri": "https://localhost:8080/"
        },
        "id": "Z49bV5xvaqKR",
        "outputId": "fd06759d-4509-4ff8-e670-747f1664f03d"
      },
      "execution_count": 11,
      "outputs": [
        {
          "output_type": "stream",
          "name": "stdout",
          "text": [
            "The value for 'name' is: Alice\n",
            "Error: The key 'country' was not found in the dictionary.\n"
          ]
        }
      ]
    },
    {
      "cell_type": "code",
      "source": [
        "# Write a program that demonstrates using multiple except blocks to handle different types of exceptions.\n",
        "\n",
        "def handle_multiple_exceptions(a, b):\n",
        "    try:\n",
        "\n",
        "        result = a / b\n",
        "        print(f\"The result of {a} divided by {b} is: {result}\")\n",
        "\n",
        "\n",
        "        with open(\"example.txt\", \"r\") as file:\n",
        "            content = file.read()\n",
        "            print(\"File content:\", content)\n",
        "\n",
        "    except ZeroDivisionError:\n",
        "\n",
        "        print(\"Error: You cannot divide by zero.\")\n",
        "    except FileNotFoundError:\n",
        "\n",
        "        print(\"Error: The file 'example.txt' was not found.\")\n",
        "    except ValueError:\n",
        "\n",
        "        print(\"Error: Invalid value encountered.\")\n",
        "    except Exception as e:\n",
        "\n",
        "        print(f\"An unexpected error occurred: {e}\")\n",
        "\n",
        "\n",
        "handle_multiple_exceptions(10, 2)\n",
        "handle_multiple_exceptions(10, 0)\n",
        "handle_multiple_exceptions(10, 'a')\n",
        "handle_multiple_exceptions(10, 2)\n"
      ],
      "metadata": {
        "colab": {
          "base_uri": "https://localhost:8080/"
        },
        "id": "7jJtNcCBbGlZ",
        "outputId": "2e1b0d49-5b72-4ad5-91cc-57b3882e07c7"
      },
      "execution_count": 12,
      "outputs": [
        {
          "output_type": "stream",
          "name": "stdout",
          "text": [
            "The result of 10 divided by 2 is: 5.0\n",
            "Error: The file 'example.txt' was not found.\n",
            "Error: You cannot divide by zero.\n",
            "An unexpected error occurred: unsupported operand type(s) for /: 'int' and 'str'\n",
            "The result of 10 divided by 2 is: 5.0\n",
            "Error: The file 'example.txt' was not found.\n"
          ]
        }
      ]
    },
    {
      "cell_type": "code",
      "source": [
        "#  How would you check if a file exists before attempting to read it in Python?\n",
        "\n",
        "import os\n",
        "\n",
        "def read_file(file_path):\n",
        "    if os.path.exists(file_path):\n",
        "        try:\n",
        "            with open(file_path, 'r') as file:\n",
        "                content = file.read()\n",
        "                print(\"File content:\")\n",
        "                print(content)\n",
        "        except IOError as e:\n",
        "            print(f\"Error: An I/O error occurred. Details: {e}\")\n",
        "    else:\n",
        "        print(f\"Error: The file '{file_path}' does not exist.\")\n",
        "\n",
        "\n",
        "file_path = \"example.txt\"\n",
        "read_file(file_path)\n"
      ],
      "metadata": {
        "colab": {
          "base_uri": "https://localhost:8080/"
        },
        "id": "G7OhFy7lbl6z",
        "outputId": "bb4a9902-d829-4482-b742-d6b34d487e82"
      },
      "execution_count": 13,
      "outputs": [
        {
          "output_type": "stream",
          "name": "stdout",
          "text": [
            "Error: The file 'example.txt' does not exist.\n"
          ]
        }
      ]
    },
    {
      "cell_type": "code",
      "source": [
        "# Write a program that uses the logging module to log both informational and error messages\n",
        "\n",
        "import logging\n",
        "\n",
        "logging.basicConfig(\n",
        "    filename='app_log.txt',\n",
        "    level=logging.DEBUG,\n",
        "    format='%(asctime)s - %(levelname)s - %(message)s'\n",
        ")\n",
        "\n",
        "def log_messages():\n",
        "\n",
        "    logging.info(\"This is an informational message.\")\n",
        "\n",
        "\n",
        "    logging.warning(\"This is a warning message.\")\n",
        "\n",
        "\n",
        "    logging.error(\"This is an error message.\")\n",
        "\n",
        "\n",
        "    logging.critical(\"This is a critical error message.\")\n",
        "\n",
        "\n",
        "log_messages()\n",
        "\n",
        "\n",
        "logging.debug(\"This is a debug message.\")\n"
      ],
      "metadata": {
        "colab": {
          "base_uri": "https://localhost:8080/"
        },
        "id": "CNNMy92QcChx",
        "outputId": "61e429f0-b7f2-4167-9d1f-1a7942086585"
      },
      "execution_count": 14,
      "outputs": [
        {
          "output_type": "stream",
          "name": "stderr",
          "text": [
            "WARNING:root:This is a warning message.\n",
            "ERROR:root:This is an error message.\n",
            "CRITICAL:root:This is a critical error message.\n"
          ]
        }
      ]
    },
    {
      "cell_type": "code",
      "source": [
        "#  Write a Python program that prints the content of a file and handles the case when the file is empty.\n",
        "\n",
        "def read_file(file_path):\n",
        "    try:\n",
        "\n",
        "        with open(file_path, 'r') as file:\n",
        "            content = file.read()\n",
        "\n",
        "\n",
        "            if not content:\n",
        "                print(f\"The file '{file_path}' is empty.\")\n",
        "            else:\n",
        "                print(f\"Content of '{file_path}':\")\n",
        "                print(content)\n",
        "    except FileNotFoundError:\n",
        "        print(f\"Error: The file '{file_path}' was not found.\")\n",
        "    except IOError as e:\n",
        "        print(f\"Error: An I/O error occurred. Details: {e}\")\n",
        "\n",
        "\n",
        "file_path = \"example.txt\"  # Replace with your file path\n",
        "read_file(file_path)\n"
      ],
      "metadata": {
        "colab": {
          "base_uri": "https://localhost:8080/"
        },
        "id": "65MzjMSFck0U",
        "outputId": "ed7e8a18-742b-4326-bd73-625ab2f2872e"
      },
      "execution_count": 15,
      "outputs": [
        {
          "output_type": "stream",
          "name": "stdout",
          "text": [
            "Error: The file 'example.txt' was not found.\n"
          ]
        }
      ]
    },
    {
      "cell_type": "code",
      "source": [
        "# Write a Python program to create and write a list of numbers to a file, one number per line.\n",
        "\n",
        "def write_numbers_to_file(file_path, numbers):\n",
        "    try:\n",
        "\n",
        "        with open(file_path, 'w') as file:\n",
        "\n",
        "            for number in numbers:\n",
        "                file.write(f\"{number}\\n\")\n",
        "        print(f\"Numbers have been written to '{file_path}' successfully.\")\n",
        "\n",
        "    except IOError as e:\n",
        "        print(f\"Error: An I/O error occurred while writing to the file. Details: {e}\")\n",
        "\n",
        "\n",
        "numbers_list = [1, 2, 3, 4, 5, 6, 7, 8, 9, 10]\n",
        "file_path = \"numbers.txt\"\n",
        "\n",
        "write_numbers_to_file(file_path, numbers_list)\n"
      ],
      "metadata": {
        "colab": {
          "base_uri": "https://localhost:8080/"
        },
        "id": "ut07Hon4c7VV",
        "outputId": "e1df4615-fafe-488c-c85e-e7c8f66c1587"
      },
      "execution_count": 16,
      "outputs": [
        {
          "output_type": "stream",
          "name": "stdout",
          "text": [
            "Numbers have been written to 'numbers.txt' successfully.\n"
          ]
        }
      ]
    },
    {
      "cell_type": "code",
      "source": [
        "# Write a program that handles both IndexError and KeyError using a try-except block.\n",
        "\n",
        "def handle_errors(my_list, my_dict, index, key):\n",
        "    try:\n",
        "\n",
        "        list_value = my_list[index]\n",
        "        print(f\"Value at index {index}: {list_value}\")\n",
        "\n",
        "\n",
        "        dict_value = my_dict[key]\n",
        "        print(f\"Value for key '{key}': {dict_value}\")\n",
        "\n",
        "    except IndexError:\n",
        "        print(f\"Error: Index {index} is out of range in the list.\")\n",
        "\n",
        "    except KeyError:\n",
        "        print(f\"Error: The key '{key}' was not found in the dictionary.\")\n",
        "\n",
        "\n",
        "my_list = [10, 20, 30, 40, 50]\n",
        "my_dict = {'a': 1, 'b': 2, 'c': 3}\n",
        "\n",
        "\n",
        "handle_errors(my_list, my_dict, 2, 'b')\n",
        "handle_errors(my_list, my_dict, 5, 'b')\n",
        "handle_errors(my_list, my_dict, 2, 'd')\n",
        "handle_errors(my_list, my_dict, 5, 'd')\n"
      ],
      "metadata": {
        "colab": {
          "base_uri": "https://localhost:8080/"
        },
        "id": "6p62hieKdVRQ",
        "outputId": "8f3a28f0-835a-49ce-e919-2fd14aed2de7"
      },
      "execution_count": 17,
      "outputs": [
        {
          "output_type": "stream",
          "name": "stdout",
          "text": [
            "Value at index 2: 30\n",
            "Value for key 'b': 2\n",
            "Error: Index 5 is out of range in the list.\n",
            "Value at index 2: 30\n",
            "Error: The key 'd' was not found in the dictionary.\n",
            "Error: Index 5 is out of range in the list.\n"
          ]
        }
      ]
    },
    {
      "cell_type": "code",
      "source": [],
      "metadata": {
        "id": "D0HzbvvneCVw"
      },
      "execution_count": null,
      "outputs": []
    }
  ]
}